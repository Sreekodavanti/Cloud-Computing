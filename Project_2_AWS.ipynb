{
  "cells": [
    {
      "cell_type": "markdown",
      "metadata": {
        "id": "view-in-github",
        "colab_type": "text"
      },
      "source": [
        "<a href=\"https://colab.research.google.com/github/Sreekodavanti/Cloud-Computing/blob/main/Project_2_AWS.ipynb\" target=\"_parent\"><img src=\"https://colab.research.google.com/assets/colab-badge.svg\" alt=\"Open In Colab\"/></a>"
      ]
    },
    {
      "cell_type": "markdown",
      "id": "e3a02f9e",
      "metadata": {
        "id": "e3a02f9e"
      },
      "source": [
        "# Project 2"
      ]
    },
    {
      "cell_type": "code",
      "execution_count": null,
      "id": "9ca40004",
      "metadata": {
        "id": "9ca40004",
        "outputId": "ddcf8d35-4d59-4b24-d6c9-18d4e1a026a1"
      },
      "outputs": [
        {
          "name": "stdout",
          "output_type": "stream",
          "text": [
            "sagemaker.config INFO - Not applying SDK defaults from location: /etc/xdg/sagemaker/config.yaml\n",
            "sagemaker.config INFO - Not applying SDK defaults from location: /home/ec2-user/.config/sagemaker/config.yaml\n"
          ]
        }
      ],
      "source": [
        "#Importing Libraries\n",
        "import sagemaker\n",
        "import json\n",
        "import pandas as pd\n",
        "import numpy as np\n",
        "import boto3\n",
        "import matplotlib.pyplot as plt\n",
        "import warnings\n",
        "warnings.filterwarnings('ignore')"
      ]
    },
    {
      "cell_type": "code",
      "execution_count": null,
      "id": "1d98929e",
      "metadata": {
        "id": "1d98929e"
      },
      "outputs": [],
      "source": [
        "#Creating a Sagemaker Session\n",
        "sagemaker_session = sagemaker.Session()\n",
        "s3 = sagemaker_session.boto_session.resource(\"s3\")\n",
        "region = boto3.Session().region_name\n",
        "role = sagemaker.get_execution_role()"
      ]
    },
    {
      "cell_type": "markdown",
      "id": "0b6e7d5b",
      "metadata": {
        "id": "0b6e7d5b"
      },
      "source": [
        "A SageMaker session is created, an S3 resource is accessed, AWS region and the IAM role for the SageMaker instance are retrieved. These are essential steps for setting up the SageMaker environment to work with data and models in the AWS cloud."
      ]
    },
    {
      "cell_type": "code",
      "execution_count": null,
      "id": "dd00cf84",
      "metadata": {
        "id": "dd00cf84",
        "outputId": "217a565d-a0c5-4bf8-8312-7c2f01366b4e"
      },
      "outputs": [
        {
          "name": "stdout",
          "output_type": "stream",
          "text": [
            "download: s3://aws-project-02/apple_quality.csv to ./apple_quality.csv\r\n"
          ]
        }
      ],
      "source": [
        "!aws s3 cp s3://aws-project-02/apple_quality.csv ."
      ]
    },
    {
      "cell_type": "markdown",
      "id": "ac928afb",
      "metadata": {
        "id": "ac928afb"
      },
      "source": [
        "The AWS CLI (!aws) is used to copy a file (apple_quality.csv) from an S3 bucket (s3://cloud-project-2/) to the current directory (.)."
      ]
    },
    {
      "cell_type": "code",
      "execution_count": null,
      "id": "93efd5d1",
      "metadata": {
        "id": "93efd5d1",
        "outputId": "1586cf33-23c0-4a1f-f628-071a1aaa1294"
      },
      "outputs": [
        {
          "data": {
            "text/html": [
              "<div>\n",
              "<style scoped>\n",
              "    .dataframe tbody tr th:only-of-type {\n",
              "        vertical-align: middle;\n",
              "    }\n",
              "\n",
              "    .dataframe tbody tr th {\n",
              "        vertical-align: top;\n",
              "    }\n",
              "\n",
              "    .dataframe thead th {\n",
              "        text-align: right;\n",
              "    }\n",
              "</style>\n",
              "<table border=\"1\" class=\"dataframe\">\n",
              "  <thead>\n",
              "    <tr style=\"text-align: right;\">\n",
              "      <th></th>\n",
              "      <th>A_id</th>\n",
              "      <th>Size</th>\n",
              "      <th>Weight</th>\n",
              "      <th>Sweetness</th>\n",
              "      <th>Crunchiness</th>\n",
              "      <th>Juiciness</th>\n",
              "      <th>Ripeness</th>\n",
              "      <th>Acidity</th>\n",
              "      <th>Quality</th>\n",
              "    </tr>\n",
              "  </thead>\n",
              "  <tbody>\n",
              "    <tr>\n",
              "      <th>0</th>\n",
              "      <td>0</td>\n",
              "      <td>-3.970049</td>\n",
              "      <td>-2.512336</td>\n",
              "      <td>5.346330</td>\n",
              "      <td>-1.012009</td>\n",
              "      <td>1.844900</td>\n",
              "      <td>0.329840</td>\n",
              "      <td>-0.491590</td>\n",
              "      <td>good</td>\n",
              "    </tr>\n",
              "    <tr>\n",
              "      <th>1</th>\n",
              "      <td>1</td>\n",
              "      <td>-1.195217</td>\n",
              "      <td>-2.839257</td>\n",
              "      <td>3.664059</td>\n",
              "      <td>1.588232</td>\n",
              "      <td>0.853286</td>\n",
              "      <td>0.867530</td>\n",
              "      <td>-0.722809</td>\n",
              "      <td>good</td>\n",
              "    </tr>\n",
              "    <tr>\n",
              "      <th>2</th>\n",
              "      <td>2</td>\n",
              "      <td>-0.292024</td>\n",
              "      <td>-1.351282</td>\n",
              "      <td>-1.738429</td>\n",
              "      <td>-0.342616</td>\n",
              "      <td>2.838636</td>\n",
              "      <td>-0.038033</td>\n",
              "      <td>2.621636</td>\n",
              "      <td>bad</td>\n",
              "    </tr>\n",
              "    <tr>\n",
              "      <th>3</th>\n",
              "      <td>3</td>\n",
              "      <td>-0.657196</td>\n",
              "      <td>-2.271627</td>\n",
              "      <td>1.324874</td>\n",
              "      <td>-0.097875</td>\n",
              "      <td>3.637970</td>\n",
              "      <td>-3.413761</td>\n",
              "      <td>0.790723</td>\n",
              "      <td>good</td>\n",
              "    </tr>\n",
              "    <tr>\n",
              "      <th>4</th>\n",
              "      <td>4</td>\n",
              "      <td>1.364217</td>\n",
              "      <td>-1.296612</td>\n",
              "      <td>-0.384658</td>\n",
              "      <td>-0.553006</td>\n",
              "      <td>3.030874</td>\n",
              "      <td>-1.303849</td>\n",
              "      <td>0.501984</td>\n",
              "      <td>good</td>\n",
              "    </tr>\n",
              "  </tbody>\n",
              "</table>\n",
              "</div>"
            ],
            "text/plain": [
              "   A_id      Size    Weight  Sweetness  Crunchiness  Juiciness  Ripeness  \\\n",
              "0     0 -3.970049 -2.512336   5.346330    -1.012009   1.844900  0.329840   \n",
              "1     1 -1.195217 -2.839257   3.664059     1.588232   0.853286  0.867530   \n",
              "2     2 -0.292024 -1.351282  -1.738429    -0.342616   2.838636 -0.038033   \n",
              "3     3 -0.657196 -2.271627   1.324874    -0.097875   3.637970 -3.413761   \n",
              "4     4  1.364217 -1.296612  -0.384658    -0.553006   3.030874 -1.303849   \n",
              "\n",
              "    Acidity Quality  \n",
              "0 -0.491590    good  \n",
              "1 -0.722809    good  \n",
              "2  2.621636     bad  \n",
              "3  0.790723    good  \n",
              "4  0.501984    good  "
            ]
          },
          "execution_count": 4,
          "metadata": {},
          "output_type": "execute_result"
        }
      ],
      "source": [
        "#Reads and Displays the dataset\n",
        "df=pd.read_csv('apple_quality.csv')\n",
        "df.head()"
      ]
    },
    {
      "cell_type": "code",
      "execution_count": null,
      "id": "9e496610",
      "metadata": {
        "id": "9e496610",
        "outputId": "dfe29f2a-e509-443a-99fe-09a3e5a7f728"
      },
      "outputs": [
        {
          "data": {
            "text/html": [
              "<div>\n",
              "<style scoped>\n",
              "    .dataframe tbody tr th:only-of-type {\n",
              "        vertical-align: middle;\n",
              "    }\n",
              "\n",
              "    .dataframe tbody tr th {\n",
              "        vertical-align: top;\n",
              "    }\n",
              "\n",
              "    .dataframe thead th {\n",
              "        text-align: right;\n",
              "    }\n",
              "</style>\n",
              "<table border=\"1\" class=\"dataframe\">\n",
              "  <thead>\n",
              "    <tr style=\"text-align: right;\">\n",
              "      <th></th>\n",
              "      <th>A_id</th>\n",
              "      <th>Size</th>\n",
              "      <th>Weight</th>\n",
              "      <th>Sweetness</th>\n",
              "      <th>Crunchiness</th>\n",
              "      <th>Juiciness</th>\n",
              "      <th>Ripeness</th>\n",
              "      <th>Acidity</th>\n",
              "    </tr>\n",
              "  </thead>\n",
              "  <tbody>\n",
              "    <tr>\n",
              "      <th>count</th>\n",
              "      <td>4000.000000</td>\n",
              "      <td>4000.000000</td>\n",
              "      <td>3998.000000</td>\n",
              "      <td>3999.000000</td>\n",
              "      <td>3998.000000</td>\n",
              "      <td>4000.000000</td>\n",
              "      <td>4000.000000</td>\n",
              "      <td>4000.000000</td>\n",
              "    </tr>\n",
              "    <tr>\n",
              "      <th>mean</th>\n",
              "      <td>1999.500000</td>\n",
              "      <td>-0.503015</td>\n",
              "      <td>-0.989548</td>\n",
              "      <td>-0.470478</td>\n",
              "      <td>0.985479</td>\n",
              "      <td>0.512118</td>\n",
              "      <td>0.498277</td>\n",
              "      <td>0.076877</td>\n",
              "    </tr>\n",
              "    <tr>\n",
              "      <th>std</th>\n",
              "      <td>1154.844867</td>\n",
              "      <td>1.928059</td>\n",
              "      <td>1.602908</td>\n",
              "      <td>1.943684</td>\n",
              "      <td>1.403108</td>\n",
              "      <td>1.930286</td>\n",
              "      <td>1.874427</td>\n",
              "      <td>2.110270</td>\n",
              "    </tr>\n",
              "    <tr>\n",
              "      <th>min</th>\n",
              "      <td>0.000000</td>\n",
              "      <td>-7.151703</td>\n",
              "      <td>-7.149848</td>\n",
              "      <td>-6.894485</td>\n",
              "      <td>-6.055058</td>\n",
              "      <td>-5.961897</td>\n",
              "      <td>-5.864599</td>\n",
              "      <td>-7.010538</td>\n",
              "    </tr>\n",
              "    <tr>\n",
              "      <th>25%</th>\n",
              "      <td>999.750000</td>\n",
              "      <td>-1.816765</td>\n",
              "      <td>-2.011778</td>\n",
              "      <td>-1.738426</td>\n",
              "      <td>0.062563</td>\n",
              "      <td>-0.801286</td>\n",
              "      <td>-0.771677</td>\n",
              "      <td>-1.377424</td>\n",
              "    </tr>\n",
              "    <tr>\n",
              "      <th>50%</th>\n",
              "      <td>1999.500000</td>\n",
              "      <td>-0.513703</td>\n",
              "      <td>-0.984691</td>\n",
              "      <td>-0.505210</td>\n",
              "      <td>1.000018</td>\n",
              "      <td>0.534219</td>\n",
              "      <td>0.503445</td>\n",
              "      <td>0.022609</td>\n",
              "    </tr>\n",
              "    <tr>\n",
              "      <th>75%</th>\n",
              "      <td>2999.250000</td>\n",
              "      <td>0.805526</td>\n",
              "      <td>0.033383</td>\n",
              "      <td>0.802034</td>\n",
              "      <td>1.895530</td>\n",
              "      <td>1.835976</td>\n",
              "      <td>1.766212</td>\n",
              "      <td>1.510493</td>\n",
              "    </tr>\n",
              "    <tr>\n",
              "      <th>max</th>\n",
              "      <td>3999.000000</td>\n",
              "      <td>6.406367</td>\n",
              "      <td>5.790714</td>\n",
              "      <td>6.374916</td>\n",
              "      <td>7.619852</td>\n",
              "      <td>7.364403</td>\n",
              "      <td>7.237837</td>\n",
              "      <td>7.404736</td>\n",
              "    </tr>\n",
              "  </tbody>\n",
              "</table>\n",
              "</div>"
            ],
            "text/plain": [
              "              A_id         Size       Weight    Sweetness  Crunchiness  \\\n",
              "count  4000.000000  4000.000000  3998.000000  3999.000000  3998.000000   \n",
              "mean   1999.500000    -0.503015    -0.989548    -0.470478     0.985479   \n",
              "std    1154.844867     1.928059     1.602908     1.943684     1.403108   \n",
              "min       0.000000    -7.151703    -7.149848    -6.894485    -6.055058   \n",
              "25%     999.750000    -1.816765    -2.011778    -1.738426     0.062563   \n",
              "50%    1999.500000    -0.513703    -0.984691    -0.505210     1.000018   \n",
              "75%    2999.250000     0.805526     0.033383     0.802034     1.895530   \n",
              "max    3999.000000     6.406367     5.790714     6.374916     7.619852   \n",
              "\n",
              "         Juiciness     Ripeness      Acidity  \n",
              "count  4000.000000  4000.000000  4000.000000  \n",
              "mean      0.512118     0.498277     0.076877  \n",
              "std       1.930286     1.874427     2.110270  \n",
              "min      -5.961897    -5.864599    -7.010538  \n",
              "25%      -0.801286    -0.771677    -1.377424  \n",
              "50%       0.534219     0.503445     0.022609  \n",
              "75%       1.835976     1.766212     1.510493  \n",
              "max       7.364403     7.237837     7.404736  "
            ]
          },
          "execution_count": 5,
          "metadata": {},
          "output_type": "execute_result"
        }
      ],
      "source": [
        "df.describe()"
      ]
    },
    {
      "cell_type": "markdown",
      "id": "0b0045b2",
      "metadata": {
        "id": "0b0045b2"
      },
      "source": [
        "Shows the summary statistics of the numerical columns. It includes count, mean, standard deviation, minimum, maximum, and various percentiles."
      ]
    },
    {
      "cell_type": "code",
      "execution_count": null,
      "id": "d5eacb2a",
      "metadata": {
        "id": "d5eacb2a",
        "outputId": "f9c7eae9-ef3a-4430-a443-53489a8a4080"
      },
      "outputs": [
        {
          "data": {
            "text/plain": [
              "A_id           0\n",
              "Size           0\n",
              "Weight         2\n",
              "Sweetness      1\n",
              "Crunchiness    2\n",
              "Juiciness      0\n",
              "Ripeness       0\n",
              "Acidity        0\n",
              "Quality        0\n",
              "dtype: int64"
            ]
          },
          "execution_count": 6,
          "metadata": {},
          "output_type": "execute_result"
        }
      ],
      "source": [
        "# Check for null values\n",
        "df.isnull().sum()"
      ]
    },
    {
      "cell_type": "markdown",
      "id": "08b3f164",
      "metadata": {
        "id": "08b3f164"
      },
      "source": [
        "The dataset contains missing values, so we need to handle them."
      ]
    },
    {
      "cell_type": "code",
      "execution_count": null,
      "id": "8c25ccaa",
      "metadata": {
        "id": "8c25ccaa",
        "outputId": "a905fb2f-b4e1-4e0b-b7a7-c5340e009653"
      },
      "outputs": [
        {
          "data": {
            "text/plain": [
              "A_id           0\n",
              "Size           0\n",
              "Weight         0\n",
              "Sweetness      0\n",
              "Crunchiness    0\n",
              "Juiciness      0\n",
              "Ripeness       0\n",
              "Acidity        0\n",
              "Quality        0\n",
              "dtype: int64"
            ]
          },
          "execution_count": 7,
          "metadata": {},
          "output_type": "execute_result"
        }
      ],
      "source": [
        "# Replace missing values\n",
        "df.fillna({'Weight': df['Weight'].mean(),\n",
        "            'Sweetness': df['Sweetness'].mean(),\n",
        "            'Crunchiness': df['Crunchiness'].mean()}, inplace=True)\n",
        "\n",
        "df.isnull().sum()"
      ]
    },
    {
      "cell_type": "code",
      "execution_count": null,
      "id": "613b58d4",
      "metadata": {
        "id": "613b58d4",
        "outputId": "58566312-4892-4a9f-969c-ac8560dddba6"
      },
      "outputs": [
        {
          "data": {
            "text/html": [
              "<div>\n",
              "<style scoped>\n",
              "    .dataframe tbody tr th:only-of-type {\n",
              "        vertical-align: middle;\n",
              "    }\n",
              "\n",
              "    .dataframe tbody tr th {\n",
              "        vertical-align: top;\n",
              "    }\n",
              "\n",
              "    .dataframe thead th {\n",
              "        text-align: right;\n",
              "    }\n",
              "</style>\n",
              "<table border=\"1\" class=\"dataframe\">\n",
              "  <thead>\n",
              "    <tr style=\"text-align: right;\">\n",
              "      <th></th>\n",
              "      <th>A_id</th>\n",
              "      <th>Size</th>\n",
              "      <th>Weight</th>\n",
              "      <th>Sweetness</th>\n",
              "      <th>Crunchiness</th>\n",
              "      <th>Juiciness</th>\n",
              "      <th>Ripeness</th>\n",
              "      <th>Acidity</th>\n",
              "      <th>Quality</th>\n",
              "    </tr>\n",
              "  </thead>\n",
              "  <tbody>\n",
              "    <tr>\n",
              "      <th>0</th>\n",
              "      <td>0</td>\n",
              "      <td>-3.970049</td>\n",
              "      <td>-2.512336</td>\n",
              "      <td>5.346330</td>\n",
              "      <td>-1.012009</td>\n",
              "      <td>1.844900</td>\n",
              "      <td>0.329840</td>\n",
              "      <td>-0.491590</td>\n",
              "      <td>good</td>\n",
              "    </tr>\n",
              "    <tr>\n",
              "      <th>1</th>\n",
              "      <td>1</td>\n",
              "      <td>-1.195217</td>\n",
              "      <td>-2.839257</td>\n",
              "      <td>3.664059</td>\n",
              "      <td>1.588232</td>\n",
              "      <td>0.853286</td>\n",
              "      <td>0.867530</td>\n",
              "      <td>-0.722809</td>\n",
              "      <td>good</td>\n",
              "    </tr>\n",
              "    <tr>\n",
              "      <th>2</th>\n",
              "      <td>2</td>\n",
              "      <td>-0.292024</td>\n",
              "      <td>-1.351282</td>\n",
              "      <td>-1.738429</td>\n",
              "      <td>-0.342616</td>\n",
              "      <td>2.838636</td>\n",
              "      <td>-0.038033</td>\n",
              "      <td>2.621636</td>\n",
              "      <td>bad</td>\n",
              "    </tr>\n",
              "    <tr>\n",
              "      <th>3</th>\n",
              "      <td>3</td>\n",
              "      <td>-0.657196</td>\n",
              "      <td>-2.271627</td>\n",
              "      <td>1.324874</td>\n",
              "      <td>-0.097875</td>\n",
              "      <td>3.637970</td>\n",
              "      <td>-3.413761</td>\n",
              "      <td>0.790723</td>\n",
              "      <td>good</td>\n",
              "    </tr>\n",
              "    <tr>\n",
              "      <th>4</th>\n",
              "      <td>4</td>\n",
              "      <td>1.364217</td>\n",
              "      <td>-1.296612</td>\n",
              "      <td>-0.384658</td>\n",
              "      <td>-0.553006</td>\n",
              "      <td>3.030874</td>\n",
              "      <td>-1.303849</td>\n",
              "      <td>0.501984</td>\n",
              "      <td>good</td>\n",
              "    </tr>\n",
              "  </tbody>\n",
              "</table>\n",
              "</div>"
            ],
            "text/plain": [
              "   A_id      Size    Weight  Sweetness  Crunchiness  Juiciness  Ripeness  \\\n",
              "0     0 -3.970049 -2.512336   5.346330    -1.012009   1.844900  0.329840   \n",
              "1     1 -1.195217 -2.839257   3.664059     1.588232   0.853286  0.867530   \n",
              "2     2 -0.292024 -1.351282  -1.738429    -0.342616   2.838636 -0.038033   \n",
              "3     3 -0.657196 -2.271627   1.324874    -0.097875   3.637970 -3.413761   \n",
              "4     4  1.364217 -1.296612  -0.384658    -0.553006   3.030874 -1.303849   \n",
              "\n",
              "    Acidity Quality  \n",
              "0 -0.491590    good  \n",
              "1 -0.722809    good  \n",
              "2  2.621636     bad  \n",
              "3  0.790723    good  \n",
              "4  0.501984    good  "
            ]
          },
          "execution_count": 8,
          "metadata": {},
          "output_type": "execute_result"
        }
      ],
      "source": [
        "df.head()"
      ]
    },
    {
      "cell_type": "markdown",
      "id": "5a808715",
      "metadata": {
        "id": "5a808715"
      },
      "source": [
        "The dataset contains categorical values for the column 'Quality', so we need to convert into numerical values."
      ]
    },
    {
      "cell_type": "code",
      "execution_count": null,
      "id": "788a0d3e",
      "metadata": {
        "id": "788a0d3e",
        "outputId": "be3e69a8-23bf-4c31-dd79-2f3835c022fb"
      },
      "outputs": [
        {
          "data": {
            "text/html": [
              "<div>\n",
              "<style scoped>\n",
              "    .dataframe tbody tr th:only-of-type {\n",
              "        vertical-align: middle;\n",
              "    }\n",
              "\n",
              "    .dataframe tbody tr th {\n",
              "        vertical-align: top;\n",
              "    }\n",
              "\n",
              "    .dataframe thead th {\n",
              "        text-align: right;\n",
              "    }\n",
              "</style>\n",
              "<table border=\"1\" class=\"dataframe\">\n",
              "  <thead>\n",
              "    <tr style=\"text-align: right;\">\n",
              "      <th></th>\n",
              "      <th>A_id</th>\n",
              "      <th>Size</th>\n",
              "      <th>Weight</th>\n",
              "      <th>Sweetness</th>\n",
              "      <th>Crunchiness</th>\n",
              "      <th>Juiciness</th>\n",
              "      <th>Ripeness</th>\n",
              "      <th>Acidity</th>\n",
              "      <th>Quality_good</th>\n",
              "    </tr>\n",
              "  </thead>\n",
              "  <tbody>\n",
              "    <tr>\n",
              "      <th>0</th>\n",
              "      <td>0</td>\n",
              "      <td>-3.970049</td>\n",
              "      <td>-2.512336</td>\n",
              "      <td>5.346330</td>\n",
              "      <td>-1.012009</td>\n",
              "      <td>1.844900</td>\n",
              "      <td>0.329840</td>\n",
              "      <td>-0.491590</td>\n",
              "      <td>1</td>\n",
              "    </tr>\n",
              "    <tr>\n",
              "      <th>1</th>\n",
              "      <td>1</td>\n",
              "      <td>-1.195217</td>\n",
              "      <td>-2.839257</td>\n",
              "      <td>3.664059</td>\n",
              "      <td>1.588232</td>\n",
              "      <td>0.853286</td>\n",
              "      <td>0.867530</td>\n",
              "      <td>-0.722809</td>\n",
              "      <td>1</td>\n",
              "    </tr>\n",
              "    <tr>\n",
              "      <th>2</th>\n",
              "      <td>2</td>\n",
              "      <td>-0.292024</td>\n",
              "      <td>-1.351282</td>\n",
              "      <td>-1.738429</td>\n",
              "      <td>-0.342616</td>\n",
              "      <td>2.838636</td>\n",
              "      <td>-0.038033</td>\n",
              "      <td>2.621636</td>\n",
              "      <td>0</td>\n",
              "    </tr>\n",
              "    <tr>\n",
              "      <th>3</th>\n",
              "      <td>3</td>\n",
              "      <td>-0.657196</td>\n",
              "      <td>-2.271627</td>\n",
              "      <td>1.324874</td>\n",
              "      <td>-0.097875</td>\n",
              "      <td>3.637970</td>\n",
              "      <td>-3.413761</td>\n",
              "      <td>0.790723</td>\n",
              "      <td>1</td>\n",
              "    </tr>\n",
              "    <tr>\n",
              "      <th>4</th>\n",
              "      <td>4</td>\n",
              "      <td>1.364217</td>\n",
              "      <td>-1.296612</td>\n",
              "      <td>-0.384658</td>\n",
              "      <td>-0.553006</td>\n",
              "      <td>3.030874</td>\n",
              "      <td>-1.303849</td>\n",
              "      <td>0.501984</td>\n",
              "      <td>1</td>\n",
              "    </tr>\n",
              "  </tbody>\n",
              "</table>\n",
              "</div>"
            ],
            "text/plain": [
              "   A_id      Size    Weight  Sweetness  Crunchiness  Juiciness  Ripeness  \\\n",
              "0     0 -3.970049 -2.512336   5.346330    -1.012009   1.844900  0.329840   \n",
              "1     1 -1.195217 -2.839257   3.664059     1.588232   0.853286  0.867530   \n",
              "2     2 -0.292024 -1.351282  -1.738429    -0.342616   2.838636 -0.038033   \n",
              "3     3 -0.657196 -2.271627   1.324874    -0.097875   3.637970 -3.413761   \n",
              "4     4  1.364217 -1.296612  -0.384658    -0.553006   3.030874 -1.303849   \n",
              "\n",
              "    Acidity  Quality_good  \n",
              "0 -0.491590             1  \n",
              "1 -0.722809             1  \n",
              "2  2.621636             0  \n",
              "3  0.790723             1  \n",
              "4  0.501984             1  "
            ]
          },
          "execution_count": 9,
          "metadata": {},
          "output_type": "execute_result"
        }
      ],
      "source": [
        "#convert categorical into numerical\n",
        "data = pd.get_dummies(df,drop_first=True)\n",
        "data = data*1\n",
        "data.head()"
      ]
    },
    {
      "cell_type": "code",
      "execution_count": null,
      "id": "b3e9bf25",
      "metadata": {
        "id": "b3e9bf25"
      },
      "outputs": [],
      "source": [
        "#Normalization\n",
        "from sklearn.model_selection import train_test_split\n",
        "from sklearn.preprocessing import MinMaxScaler\n",
        "\n",
        "columns = ['A_id', 'Size', 'Weight', 'Sweetness', 'Crunchiness', 'Juiciness', 'Ripeness', 'Acidity']\n",
        "\n",
        "scaler = MinMaxScaler()\n",
        "data[columns] = scaler.fit_transform(data[columns])"
      ]
    },
    {
      "cell_type": "code",
      "execution_count": null,
      "id": "23aa87c0",
      "metadata": {
        "id": "23aa87c0",
        "outputId": "8874888d-469b-4e50-ee98-24e900b85eaf"
      },
      "outputs": [
        {
          "data": {
            "text/html": [
              "<div>\n",
              "<style scoped>\n",
              "    .dataframe tbody tr th:only-of-type {\n",
              "        vertical-align: middle;\n",
              "    }\n",
              "\n",
              "    .dataframe tbody tr th {\n",
              "        vertical-align: top;\n",
              "    }\n",
              "\n",
              "    .dataframe thead th {\n",
              "        text-align: right;\n",
              "    }\n",
              "</style>\n",
              "<table border=\"1\" class=\"dataframe\">\n",
              "  <thead>\n",
              "    <tr style=\"text-align: right;\">\n",
              "      <th></th>\n",
              "      <th>A_id</th>\n",
              "      <th>Size</th>\n",
              "      <th>Weight</th>\n",
              "      <th>Sweetness</th>\n",
              "      <th>Crunchiness</th>\n",
              "      <th>Juiciness</th>\n",
              "      <th>Ripeness</th>\n",
              "      <th>Acidity</th>\n",
              "      <th>Quality_good</th>\n",
              "    </tr>\n",
              "  </thead>\n",
              "  <tbody>\n",
              "    <tr>\n",
              "      <th>0</th>\n",
              "      <td>0.00000</td>\n",
              "      <td>0.234669</td>\n",
              "      <td>0.358370</td>\n",
              "      <td>0.922484</td>\n",
              "      <td>0.368781</td>\n",
              "      <td>0.585819</td>\n",
              "      <td>0.472770</td>\n",
              "      <td>0.452225</td>\n",
              "      <td>1</td>\n",
              "    </tr>\n",
              "    <tr>\n",
              "      <th>1</th>\n",
              "      <td>0.00025</td>\n",
              "      <td>0.439331</td>\n",
              "      <td>0.333107</td>\n",
              "      <td>0.795706</td>\n",
              "      <td>0.558928</td>\n",
              "      <td>0.511408</td>\n",
              "      <td>0.513807</td>\n",
              "      <td>0.436185</td>\n",
              "      <td>1</td>\n",
              "    </tr>\n",
              "    <tr>\n",
              "      <th>2</th>\n",
              "      <td>0.00050</td>\n",
              "      <td>0.505948</td>\n",
              "      <td>0.448092</td>\n",
              "      <td>0.388567</td>\n",
              "      <td>0.417732</td>\n",
              "      <td>0.660388</td>\n",
              "      <td>0.444693</td>\n",
              "      <td>0.668192</td>\n",
              "      <td>0</td>\n",
              "    </tr>\n",
              "    <tr>\n",
              "      <th>3</th>\n",
              "      <td>0.00075</td>\n",
              "      <td>0.479014</td>\n",
              "      <td>0.376971</td>\n",
              "      <td>0.619422</td>\n",
              "      <td>0.435629</td>\n",
              "      <td>0.720370</td>\n",
              "      <td>0.187052</td>\n",
              "      <td>0.541180</td>\n",
              "      <td>1</td>\n",
              "    </tr>\n",
              "    <tr>\n",
              "      <th>4</th>\n",
              "      <td>0.00100</td>\n",
              "      <td>0.628107</td>\n",
              "      <td>0.452317</td>\n",
              "      <td>0.490589</td>\n",
              "      <td>0.402347</td>\n",
              "      <td>0.674814</td>\n",
              "      <td>0.348084</td>\n",
              "      <td>0.521150</td>\n",
              "      <td>1</td>\n",
              "    </tr>\n",
              "  </tbody>\n",
              "</table>\n",
              "</div>"
            ],
            "text/plain": [
              "      A_id      Size    Weight  Sweetness  Crunchiness  Juiciness  Ripeness  \\\n",
              "0  0.00000  0.234669  0.358370   0.922484     0.368781   0.585819  0.472770   \n",
              "1  0.00025  0.439331  0.333107   0.795706     0.558928   0.511408  0.513807   \n",
              "2  0.00050  0.505948  0.448092   0.388567     0.417732   0.660388  0.444693   \n",
              "3  0.00075  0.479014  0.376971   0.619422     0.435629   0.720370  0.187052   \n",
              "4  0.00100  0.628107  0.452317   0.490589     0.402347   0.674814  0.348084   \n",
              "\n",
              "    Acidity  Quality_good  \n",
              "0  0.452225             1  \n",
              "1  0.436185             1  \n",
              "2  0.668192             0  \n",
              "3  0.541180             1  \n",
              "4  0.521150             1  "
            ]
          },
          "execution_count": 11,
          "metadata": {},
          "output_type": "execute_result"
        }
      ],
      "source": [
        "data.head()"
      ]
    },
    {
      "cell_type": "code",
      "execution_count": null,
      "id": "c9ee6fb4",
      "metadata": {
        "id": "c9ee6fb4",
        "outputId": "8137b418-5eb9-4963-d43d-a2f8fd52649e"
      },
      "outputs": [
        {
          "data": {
            "image/png": "[encoded data removed]",
            "text/plain": [
              "<Figure size 1000x800 with 2 Axes>"
            ]
          },
          "metadata": {},
          "output_type": "display_data"
        }
      ],
      "source": [
        "# Correlation Matrix\n",
        "import seaborn as sns\n",
        "corr_matrix = data.corr()\n",
        "\n",
        "# Create heatmap\n",
        "plt.figure(figsize=(10, 8))\n",
        "sns.heatmap(corr_matrix, annot=True, cmap='coolwarm', fmt=\".2f\", linewidths=0.5)\n",
        "plt.title('Correlation Matrix')\n",
        "plt.show()"
      ]
    },
    {
      "cell_type": "markdown",
      "id": "afb99af1",
      "metadata": {
        "id": "afb99af1"
      },
      "source": [
        "# Training"
      ]
    },
    {
      "cell_type": "code",
      "execution_count": null,
      "id": "6e034836",
      "metadata": {
        "id": "6e034836"
      },
      "outputs": [],
      "source": [
        "import sagemaker\n",
        "from sagemaker import image_uris\n",
        "\n",
        "# Define the SageMaker session and role\n",
        "sagemaker_session = sagemaker.Session()\n",
        "role = sagemaker.get_execution_role()"
      ]
    },
    {
      "cell_type": "code",
      "execution_count": null,
      "id": "76b20110",
      "metadata": {
        "id": "76b20110"
      },
      "outputs": [],
      "source": [
        "# Splitting the dataset\n",
        "train_data, validation_data, test_data = np.split(\n",
        "    data.sample(frac=1, random_state=1729),\n",
        "    [int(0.7 * len(data)), int(0.9 * len(data))],\n",
        ")\n",
        "\n",
        "# Train data\n",
        "train_X = train_data.drop([\"Quality_good\",\"A_id\"], axis=1)\n",
        "train_y = train_data[\"Quality_good\"]\n",
        "\n",
        "# Validation data\n",
        "validation_X = validation_data.drop([\"Quality_good\",\"A_id\"], axis=1)\n",
        "validation_y = validation_data[\"Quality_good\"]\n",
        "\n",
        "# Test data\n",
        "test_X = test_data.drop([\"Quality_good\",\"A_id\"], axis=1)\n",
        "test_y = test_data[\"Quality_good\"]\n",
        "\n",
        "# Saving to CSV files\n",
        "train_data.to_csv(\"train.csv\", index=False, header=False)\n",
        "validation_data.to_csv(\"validation.csv\", index=False, header=False)\n",
        "test_data.to_csv(\"test.csv\", index=False, header=False)"
      ]
    },
    {
      "cell_type": "code",
      "execution_count": null,
      "id": "b0933e78",
      "metadata": {
        "id": "b0933e78"
      },
      "outputs": [],
      "source": [
        "# Specify the container image for XGBoost\n",
        "container = image_uris.retrieve(\"xgboost\", sagemaker_session.boto_region_name, version=\"1.2-1\")"
      ]
    },
    {
      "cell_type": "code",
      "execution_count": null,
      "id": "bcda1a5a",
      "metadata": {
        "id": "bcda1a5a"
      },
      "outputs": [],
      "source": [
        "# Define the training job configuration\n",
        "output_path = \"s3://aws-project-02/output\""
      ]
    },
    {
      "cell_type": "code",
      "execution_count": null,
      "id": "fd761027",
      "metadata": {
        "id": "fd761027"
      },
      "outputs": [],
      "source": [
        "xgb = sagemaker.estimator.Estimator(container,\n",
        "                                     role,\n",
        "                                     instance_count=1,\n",
        "                                     instance_type=\"ml.m4.xlarge\",\n",
        "                                     output_path=output_path,\n",
        "                                     sagemaker_session=sagemaker_session)"
      ]
    },
    {
      "cell_type": "code",
      "execution_count": null,
      "id": "975dfbe9",
      "metadata": {
        "id": "975dfbe9"
      },
      "outputs": [],
      "source": [
        "xgb.set_hyperparameters(max_depth=5,\n",
        "                         eta=0.2,\n",
        "                         gamma=4,\n",
        "                         min_child_weight=6,\n",
        "                         subsample=0.8,\n",
        "                         objective=\"reg:squarederror\",\n",
        "                         num_round=100)"
      ]
    },
    {
      "cell_type": "code",
      "execution_count": null,
      "id": "9dca2580",
      "metadata": {
        "id": "9dca2580"
      },
      "outputs": [],
      "source": [
        "# Define the data channels for training and validation\n",
        "train_input = sagemaker.inputs.TrainingInput(\"s3://aws-project-02/sagemaker/hpo-xgboost-project2/train/train\", content_type=\"csv\")\n",
        "validation_input = sagemaker.inputs.TrainingInput(\"s3://aws-project-02/sagemaker/hpo-xgboost-project2/validation/validation\", content_type=\"csv\")"
      ]
    },
    {
      "cell_type": "code",
      "execution_count": null,
      "id": "28f83ca8",
      "metadata": {
        "id": "28f83ca8",
        "outputId": "a9088069-7c5f-4234-d4b2-d233258e5ab0"
      },
      "outputs": [
        {
          "name": "stderr",
          "output_type": "stream",
          "text": [
            "INFO:sagemaker:Creating training-job with name: sagemaker-xgboost-2024-04-10-17-48-52-609\n"
          ]
        },
        {
          "name": "stdout",
          "output_type": "stream",
          "text": [
            "2024-04-10 17:48:52 Starting - Starting the training job......\n",
            "2024-04-10 17:49:27 Starting - Preparing the instances for training......\n",
            "2024-04-10 17:50:44 Downloading - Downloading input data...\n",
            "2024-04-10 17:51:19 Downloading - Downloading the training image......\n",
            "2024-04-10 17:52:10 Training - Training image download completed. Training in progress..\u001b[34m[2024-04-10 17:52:20.176 ip-10-2-188-142.ec2.internal:7 INFO utils.py:27] RULE_JOB_STOP_SIGNAL_FILENAME: None\u001b[0m\n",
            "\u001b[34mINFO:sagemaker-containers:Imported framework sagemaker_xgboost_container.training\u001b[0m\n",
            "\u001b[34mINFO:sagemaker-containers:Failed to parse hyperparameter objective value reg:squarederror to Json.\u001b[0m\n",
            "\u001b[34mReturning the value itself\u001b[0m\n",
            "\u001b[34mINFO:sagemaker-containers:No GPUs detected (normal if no gpus installed)\u001b[0m\n",
            "\u001b[34mINFO:sagemaker_xgboost_container.training:Running XGBoost Sagemaker in algorithm mode\u001b[0m\n",
            "\u001b[34mINFO:root:Determined delimiter of CSV input is ','\u001b[0m\n",
            "\u001b[34mINFO:root:Determined delimiter of CSV input is ','\u001b[0m\n",
            "\u001b[34mINFO:root:Determined delimiter of CSV input is ','\u001b[0m\n",
            "\u001b[34mINFO:root:Determined delimiter of CSV input is ','\u001b[0m\n",
            "\u001b[34mINFO:root:Single node training.\u001b[0m\n",
            "\u001b[34m[2024-04-10 17:52:20.287 ip-10-2-188-142.ec2.internal:7 INFO json_config.py:91] Creating hook from json_config at /opt/ml/input/config/debughookconfig.json.\u001b[0m\n",
            "\u001b[34m[2024-04-10 17:52:20.288 ip-10-2-188-142.ec2.internal:7 INFO hook.py:199] tensorboard_dir has not been set for the hook. SMDebug will not be exporting tensorboard summaries.\u001b[0m\n",
            "\u001b[34m[2024-04-10 17:52:20.288 ip-10-2-188-142.ec2.internal:7 INFO profiler_config_parser.py:102] User has disabled profiler.\u001b[0m\n",
            "\u001b[34m[2024-04-10 17:52:20.289 ip-10-2-188-142.ec2.internal:7 INFO hook.py:253] Saving to /opt/ml/output/tensors\u001b[0m\n",
            "\u001b[34m[2024-04-10 17:52:20.289 ip-10-2-188-142.ec2.internal:7 INFO state_store.py:77] The checkpoint config file /opt/ml/input/config/checkpointconfig.json does not exist.\u001b[0m\n",
            "\u001b[34mINFO:root:Debug hook created from config\u001b[0m\n",
            "\u001b[34mINFO:root:Train matrix has 2800 rows and 8 columns\u001b[0m\n",
            "\u001b[34mINFO:root:Validation matrix has 800 rows\u001b[0m\n",
            "\u001b[34m[0]#011train-rmse:0.29057#011validation-rmse:0.28520\u001b[0m\n",
            "\u001b[34m[2024-04-10 17:52:20.297 ip-10-2-188-142.ec2.internal:7 INFO hook.py:413] Monitoring the collections: metrics\u001b[0m\n",
            "\u001b[34m[2024-04-10 17:52:20.299 ip-10-2-188-142.ec2.internal:7 INFO hook.py:476] Hook is writing from the hook with pid: 7\u001b[0m\n",
            "\u001b[34m[1]#011train-rmse:0.29057#011validation-rmse:0.28520\u001b[0m\n",
            "\u001b[34m[2]#011train-rmse:0.29057#011validation-rmse:0.28520\u001b[0m\n",
            "\u001b[34m[3]#011train-rmse:0.29057#011validation-rmse:0.28520\u001b[0m\n",
            "\u001b[34m[4]#011train-rmse:0.29057#011validation-rmse:0.28520\u001b[0m\n",
            "\u001b[34m[5]#011train-rmse:0.29057#011validation-rmse:0.28521\u001b[0m\n",
            "\u001b[34m[6]#011train-rmse:0.29057#011validation-rmse:0.28520\u001b[0m\n",
            "\u001b[34m[7]#011train-rmse:0.29057#011validation-rmse:0.28520\u001b[0m\n",
            "\u001b[34m[8]#011train-rmse:0.29057#011validation-rmse:0.28520\u001b[0m\n",
            "\u001b[34m[9]#011train-rmse:0.29057#011validation-rmse:0.28520\u001b[0m\n",
            "\u001b[34m[10]#011train-rmse:0.29057#011validation-rmse:0.28521\u001b[0m\n",
            "\u001b[34m[11]#011train-rmse:0.29057#011validation-rmse:0.28521\u001b[0m\n",
            "\u001b[34m[12]#011train-rmse:0.29057#011validation-rmse:0.28521\u001b[0m\n",
            "\u001b[34m[13]#011train-rmse:0.29057#011validation-rmse:0.28520\u001b[0m\n",
            "\u001b[34m[14]#011train-rmse:0.29057#011validation-rmse:0.28520\u001b[0m\n",
            "\u001b[34m[15]#011train-rmse:0.29057#011validation-rmse:0.28520\u001b[0m\n",
            "\u001b[34m[16]#011train-rmse:0.29057#011validation-rmse:0.28520\u001b[0m\n",
            "\u001b[34m[17]#011train-rmse:0.29057#011validation-rmse:0.28521\u001b[0m\n",
            "\u001b[34m[18]#011train-rmse:0.29057#011validation-rmse:0.28521\u001b[0m\n",
            "\u001b[34m[19]#011train-rmse:0.29057#011validation-rmse:0.28521\u001b[0m\n",
            "\u001b[34m[20]#011train-rmse:0.29057#011validation-rmse:0.28522\u001b[0m\n",
            "\u001b[34m[21]#011train-rmse:0.29057#011validation-rmse:0.28522\u001b[0m\n",
            "\u001b[34m[22]#011train-rmse:0.29057#011validation-rmse:0.28522\u001b[0m\n",
            "\u001b[34m[23]#011train-rmse:0.29057#011validation-rmse:0.28523\u001b[0m\n",
            "\u001b[34m[24]#011train-rmse:0.29057#011validation-rmse:0.28522\u001b[0m\n",
            "\u001b[34m[25]#011train-rmse:0.29057#011validation-rmse:0.28522\u001b[0m\n",
            "\u001b[34m[26]#011train-rmse:0.29057#011validation-rmse:0.28523\u001b[0m\n",
            "\u001b[34m[27]#011train-rmse:0.29057#011validation-rmse:0.28521\u001b[0m\n",
            "\u001b[34m[28]#011train-rmse:0.29057#011validation-rmse:0.28521\u001b[0m\n",
            "\u001b[34m[29]#011train-rmse:0.29057#011validation-rmse:0.28520\u001b[0m\n",
            "\u001b[34m[30]#011train-rmse:0.29057#011validation-rmse:0.28520\u001b[0m\n",
            "\u001b[34m[31]#011train-rmse:0.29057#011validation-rmse:0.28520\u001b[0m\n",
            "\u001b[34m[32]#011train-rmse:0.29057#011validation-rmse:0.28520\u001b[0m\n",
            "\u001b[34m[33]#011train-rmse:0.29057#011validation-rmse:0.28520\u001b[0m\n",
            "\u001b[34m[34]#011train-rmse:0.29057#011validation-rmse:0.28521\u001b[0m\n",
            "\u001b[34m[35]#011train-rmse:0.29057#011validation-rmse:0.28521\u001b[0m\n",
            "\u001b[34m[36]#011train-rmse:0.29057#011validation-rmse:0.28521\u001b[0m\n",
            "\u001b[34m[37]#011train-rmse:0.29057#011validation-rmse:0.28520\u001b[0m\n",
            "\u001b[34m[38]#011train-rmse:0.29057#011validation-rmse:0.28521\u001b[0m\n",
            "\u001b[34m[39]#011train-rmse:0.29057#011validation-rmse:0.28522\u001b[0m\n",
            "\u001b[34m[40]#011train-rmse:0.29057#011validation-rmse:0.28520\u001b[0m\n",
            "\u001b[34m[41]#011train-rmse:0.29057#011validation-rmse:0.28520\u001b[0m\n",
            "\u001b[34m[42]#011train-rmse:0.29057#011validation-rmse:0.28521\u001b[0m\n",
            "\u001b[34m[43]#011train-rmse:0.29057#011validation-rmse:0.28520\u001b[0m\n",
            "\u001b[34m[44]#011train-rmse:0.29057#011validation-rmse:0.28520\u001b[0m\n",
            "\u001b[34m[45]#011train-rmse:0.29057#011validation-rmse:0.28520\u001b[0m\n",
            "\u001b[34m[46]#011train-rmse:0.29057#011validation-rmse:0.28520\u001b[0m\n",
            "\u001b[34m[47]#011train-rmse:0.29057#011validation-rmse:0.28520\u001b[0m\n",
            "\u001b[34m[48]#011train-rmse:0.29057#011validation-rmse:0.28520\u001b[0m\n",
            "\u001b[34m[49]#011train-rmse:0.29057#011validation-rmse:0.28520\u001b[0m\n",
            "\u001b[34m[50]#011train-rmse:0.29057#011validation-rmse:0.28520\u001b[0m\n",
            "\u001b[34m[51]#011train-rmse:0.29057#011validation-rmse:0.28520\u001b[0m\n",
            "\u001b[34m[52]#011train-rmse:0.29057#011validation-rmse:0.28520\u001b[0m\n",
            "\u001b[34m[53]#011train-rmse:0.29057#011validation-rmse:0.28520\u001b[0m\n",
            "\u001b[34m[54]#011train-rmse:0.29057#011validation-rmse:0.28521\u001b[0m\n",
            "\u001b[34m[55]#011train-rmse:0.29057#011validation-rmse:0.28520\u001b[0m\n",
            "\u001b[34m[56]#011train-rmse:0.29057#011validation-rmse:0.28519\u001b[0m\n",
            "\u001b[34m[57]#011train-rmse:0.29057#011validation-rmse:0.28519\u001b[0m\n",
            "\u001b[34m[58]#011train-rmse:0.29057#011validation-rmse:0.28520\u001b[0m\n",
            "\u001b[34m[59]#011train-rmse:0.29057#011validation-rmse:0.28520\u001b[0m\n",
            "\u001b[34m[60]#011train-rmse:0.29057#011validation-rmse:0.28521\u001b[0m\n",
            "\u001b[34m[61]#011train-rmse:0.29057#011validation-rmse:0.28521\u001b[0m\n",
            "\u001b[34m[62]#011train-rmse:0.29057#011validation-rmse:0.28522\u001b[0m\n",
            "\u001b[34m[63]#011train-rmse:0.29057#011validation-rmse:0.28521\u001b[0m\n",
            "\u001b[34m[64]#011train-rmse:0.29057#011validation-rmse:0.28521\u001b[0m\n",
            "\u001b[34m[65]#011train-rmse:0.29057#011validation-rmse:0.28521\u001b[0m\n",
            "\u001b[34m[66]#011train-rmse:0.29057#011validation-rmse:0.28521\u001b[0m\n",
            "\u001b[34m[67]#011train-rmse:0.29057#011validation-rmse:0.28521\u001b[0m\n",
            "\u001b[34m[68]#011train-rmse:0.29057#011validation-rmse:0.28521\u001b[0m\n",
            "\u001b[34m[69]#011train-rmse:0.29057#011validation-rmse:0.28522\u001b[0m\n",
            "\u001b[34m[70]#011train-rmse:0.29057#011validation-rmse:0.28521\u001b[0m\n",
            "\u001b[34m[71]#011train-rmse:0.29057#011validation-rmse:0.28521\u001b[0m\n",
            "\u001b[34m[72]#011train-rmse:0.29057#011validation-rmse:0.28520\u001b[0m\n",
            "\u001b[34m[73]#011train-rmse:0.29057#011validation-rmse:0.28520\u001b[0m\n",
            "\u001b[34m[74]#011train-rmse:0.29057#011validation-rmse:0.28520\u001b[0m\n",
            "\u001b[34m[75]#011train-rmse:0.29057#011validation-rmse:0.28521\u001b[0m\n",
            "\u001b[34m[76]#011train-rmse:0.29057#011validation-rmse:0.28520\u001b[0m\n",
            "\u001b[34m[77]#011train-rmse:0.29057#011validation-rmse:0.28523\u001b[0m\n",
            "\u001b[34m[78]#011train-rmse:0.29057#011validation-rmse:0.28523\u001b[0m\n",
            "\u001b[34m[79]#011train-rmse:0.29057#011validation-rmse:0.28523\u001b[0m\n",
            "\u001b[34m[80]#011train-rmse:0.29057#011validation-rmse:0.28522\u001b[0m\n",
            "\u001b[34m[81]#011train-rmse:0.29057#011validation-rmse:0.28522\u001b[0m\n",
            "\u001b[34m[82]#011train-rmse:0.29057#011validation-rmse:0.28522\u001b[0m\n",
            "\u001b[34m[83]#011train-rmse:0.29057#011validation-rmse:0.28521\u001b[0m\n",
            "\u001b[34m[84]#011train-rmse:0.29057#011validation-rmse:0.28520\u001b[0m\n",
            "\u001b[34m[85]#011train-rmse:0.29057#011validation-rmse:0.28520\u001b[0m\n",
            "\u001b[34m[86]#011train-rmse:0.29057#011validation-rmse:0.28520\u001b[0m\n",
            "\u001b[34m[87]#011train-rmse:0.29057#011validation-rmse:0.28519\u001b[0m\n",
            "\u001b[34m[88]#011train-rmse:0.29057#011validation-rmse:0.28520\u001b[0m\n",
            "\u001b[34m[89]#011train-rmse:0.29057#011validation-rmse:0.28520\u001b[0m\n",
            "\u001b[34m[90]#011train-rmse:0.29057#011validation-rmse:0.28521\u001b[0m\n",
            "\u001b[34m[91]#011train-rmse:0.29057#011validation-rmse:0.28520\u001b[0m\n",
            "\u001b[34m[92]#011train-rmse:0.29057#011validation-rmse:0.28520\u001b[0m\n",
            "\u001b[34m[93]#011train-rmse:0.29057#011validation-rmse:0.28521\u001b[0m\n",
            "\u001b[34m[94]#011train-rmse:0.29057#011validation-rmse:0.28521\u001b[0m\n",
            "\u001b[34m[95]#011train-rmse:0.29057#011validation-rmse:0.28520\u001b[0m\n",
            "\u001b[34m[96]#011train-rmse:0.29057#011validation-rmse:0.28520\u001b[0m\n",
            "\u001b[34m[97]#011train-rmse:0.29057#011validation-rmse:0.28520\u001b[0m\n",
            "\u001b[34m[98]#011train-rmse:0.29057#011validation-rmse:0.28520\u001b[0m\n",
            "\u001b[34m[99]#011train-rmse:0.29057#011validation-rmse:0.28520\u001b[0m\n",
            "\n",
            "2024-04-10 17:52:41 Uploading - Uploading generated training model\n",
            "2024-04-10 17:52:41 Completed - Training job completed\n"
          ]
        }
      ],
      "source": [
        "# Start the training job with both training and validation datasets\n",
        "xgb.fit({\"train\": train_input, \"validation\": validation_input})"
      ]
    },
    {
      "cell_type": "code",
      "execution_count": null,
      "id": "f7d29d67",
      "metadata": {
        "id": "f7d29d67",
        "outputId": "ab88781b-5c27-47f4-8413-e1aad1b26c21"
      },
      "outputs": [
        {
          "name": "stdout",
          "output_type": "stream",
          "text": [
            "Final: 0.2905699908733368\n"
          ]
        }
      ],
      "source": [
        "# Get the training job name from the estimator\n",
        "training_job_name = xgb.latest_training_job.job_name\n",
        "\n",
        "# Describe the training job to get the final metric value\n",
        "training_job_info = sagemaker_session.sagemaker_client.describe_training_job(TrainingJobName=training_job_name)\n",
        "final_metric_value = training_job_info[\"FinalMetricDataList\"][0][\"Value\"]\n",
        "\n",
        "print(f\"Final: {final_metric_value}\")"
      ]
    },
    {
      "cell_type": "code",
      "execution_count": null,
      "id": "4f3f26e0",
      "metadata": {
        "id": "4f3f26e0"
      },
      "outputs": [],
      "source": []
    },
    {
      "cell_type": "markdown",
      "id": "9cab0d7e",
      "metadata": {
        "id": "9cab0d7e"
      },
      "source": [
        "# Hyperparameter Tuning"
      ]
    },
    {
      "cell_type": "code",
      "execution_count": null,
      "id": "434dc339",
      "metadata": {
        "id": "434dc339"
      },
      "outputs": [],
      "source": [
        "from time import gmtime, strftime\n",
        "import os\n",
        "\n",
        "region = boto3.Session().region_name\n",
        "smclient = boto3.Session().client(\"sagemaker\")\n",
        "\n",
        "role = sagemaker.get_execution_role()\n",
        "\n",
        "bucket = \"aws-project-02\"\n",
        "prefix = \"sagemaker/hpo-xgboost-project2\""
      ]
    },
    {
      "cell_type": "code",
      "execution_count": null,
      "id": "044863ab",
      "metadata": {
        "id": "044863ab"
      },
      "outputs": [],
      "source": [
        "# Saving the csv file to the bucket\n",
        "boto3.Session().resource(\"s3\").Bucket(bucket).Object(\n",
        "    os.path.join(prefix, \"train/train.csv\")\n",
        ").upload_file(\"train.csv\")\n",
        "\n",
        "boto3.Session().resource(\"s3\").Bucket(bucket).Object(\n",
        "    os.path.join(prefix , \"validation/validation.csv\")\n",
        ").upload_file(\"validation.csv\")"
      ]
    },
    {
      "cell_type": "code",
      "execution_count": null,
      "id": "70fde4d9",
      "metadata": {
        "id": "70fde4d9",
        "outputId": "8a3af3e3-0474-4b3b-db34-e3468fd062a9"
      },
      "outputs": [
        {
          "name": "stdout",
          "output_type": "stream",
          "text": [
            "xgboost-aws-project-10-15-27-36\n"
          ]
        }
      ],
      "source": [
        "from time import gmtime, strftime, sleep\n",
        "\n",
        "tuning_job_name = \"xgboost-aws-project-\" + strftime(\"%d-%H-%M-%S\", gmtime())\n",
        "\n",
        "print(tuning_job_name)\n",
        "\n",
        "tuning_job_config = {\n",
        "    \"ParameterRanges\": {\n",
        "        \"CategoricalParameterRanges\": [],\n",
        "        \"ContinuousParameterRanges\": [\n",
        "            {\n",
        "                \"MaxValue\": \"1\",\n",
        "                \"MinValue\": \"0\",\n",
        "                \"Name\": \"eta\",\n",
        "            },\n",
        "            {\n",
        "                \"MaxValue\": \"10\",\n",
        "                \"MinValue\": \"1\",\n",
        "                \"Name\": \"min_child_weight\",\n",
        "            },\n",
        "            {\n",
        "                \"MaxValue\": \"2\",\n",
        "                \"MinValue\": \"0\",\n",
        "                \"Name\": \"alpha\",\n",
        "            },\n",
        "        ],\n",
        "        \"IntegerParameterRanges\": [\n",
        "            {\n",
        "                \"MaxValue\": \"10\",\n",
        "                \"MinValue\": \"1\",\n",
        "                \"Name\": \"max_depth\",\n",
        "            }\n",
        "        ],\n",
        "    },\n",
        "    \"ResourceLimits\": {\"MaxNumberOfTrainingJobs\": 10, \"MaxParallelTrainingJobs\": 3},\n",
        "    \"Strategy\": \"Bayesian\",\n",
        "    \"HyperParameterTuningJobObjective\": {\"MetricName\": \"validation:logloss\", \"Type\": \"Minimize\"},\n",
        "}"
      ]
    },
    {
      "cell_type": "code",
      "execution_count": null,
      "id": "5c7dd5a9",
      "metadata": {
        "id": "5c7dd5a9"
      },
      "outputs": [],
      "source": [
        "from sagemaker.image_uris import retrieve\n",
        "\n",
        "training_image = retrieve(framework=\"xgboost\", region=region, version=\"1.5-1\")\n",
        "\n",
        "s3_input_train = \"s3://{}/{}/train\".format(bucket, prefix)\n",
        "s3_input_validation = \"s3://{}/{}/validation/\".format(bucket, prefix)\n",
        "\n",
        "training_job_definition = {\n",
        "    \"AlgorithmSpecification\": {\"TrainingImage\": training_image, \"TrainingInputMode\": \"File\"},\n",
        "    \"InputDataConfig\": [\n",
        "        {\n",
        "            \"ChannelName\": \"train\",\n",
        "            \"CompressionType\": \"None\",\n",
        "            \"ContentType\": \"csv\",\n",
        "            \"DataSource\": {\n",
        "                \"S3DataSource\": {\n",
        "                    \"S3DataDistributionType\": \"FullyReplicated\",\n",
        "                    \"S3DataType\": \"S3Prefix\",\n",
        "                    \"S3Uri\": s3_input_train,\n",
        "                }\n",
        "            },\n",
        "        },\n",
        "        {\n",
        "            \"ChannelName\": \"validation\",\n",
        "            \"CompressionType\": \"None\",\n",
        "            \"ContentType\": \"csv\",\n",
        "            \"DataSource\": {\n",
        "                \"S3DataSource\": {\n",
        "                    \"S3DataDistributionType\": \"FullyReplicated\",\n",
        "                    \"S3DataType\": \"S3Prefix\",\n",
        "                    \"S3Uri\": s3_input_validation,\n",
        "                }\n",
        "            },\n",
        "        },\n",
        "    ],\n",
        "    \"OutputDataConfig\": {\"S3OutputPath\": \"s3://{}/{}/output\".format(bucket, prefix)},\n",
        "    \"ResourceConfig\": {\"InstanceCount\": 1, \"InstanceType\": \"ml.m4.xlarge\", \"VolumeSizeInGB\": 10},\n",
        "    \"RoleArn\": role,\n",
        "    \"StaticHyperParameters\": {\n",
        "        \"eval_metric\": \"auc\",\n",
        "        \"num_round\": \"100\",\n",
        "        #\"objective\": \"binary:hinge\",\n",
        "        \"objective\": \"binary:logistic\",\n",
        "        \"rate_drop\": \"0.3\",\n",
        "        \"tweedie_variance_power\": \"1.4\",\n",
        "    },\n",
        "    \"StoppingCondition\": {\"MaxRuntimeInSeconds\": 43200},\n",
        "}"
      ]
    },
    {
      "cell_type": "code",
      "execution_count": null,
      "id": "82c366a9",
      "metadata": {
        "id": "82c366a9",
        "outputId": "ddb91baf-571c-4ff9-d9e6-0fb52cb33657"
      },
      "outputs": [
        {
          "data": {
            "text/plain": [
              "{'HyperParameterTuningJobArn': 'arn:aws:sagemaker:us-east-1:280250966416:hyper-parameter-tuning-job/xgboost-aws-project-10-15-27-36',\n",
              " 'ResponseMetadata': {'RequestId': 'ffe07392-be04-4645-9825-a7f611d6b6cb',\n",
              "  'HTTPStatusCode': 200,\n",
              "  'HTTPHeaders': {'x-amzn-requestid': 'ffe07392-be04-4645-9825-a7f611d6b6cb',\n",
              "   'content-type': 'application/x-amz-json-1.1',\n",
              "   'content-length': '132',\n",
              "   'date': 'Wed, 10 Apr 2024 15:27:41 GMT'},\n",
              "  'RetryAttempts': 0}}"
            ]
          },
          "execution_count": 18,
          "metadata": {},
          "output_type": "execute_result"
        }
      ],
      "source": [
        "smclient.create_hyper_parameter_tuning_job(\n",
        "    HyperParameterTuningJobName=tuning_job_name,\n",
        "    HyperParameterTuningJobConfig=tuning_job_config,\n",
        "    TrainingJobDefinition=training_job_definition,\n",
        ")"
      ]
    },
    {
      "cell_type": "code",
      "execution_count": null,
      "id": "e1b75143",
      "metadata": {
        "id": "e1b75143",
        "outputId": "b1128903-944e-4d5a-82ea-6e1399e87311"
      },
      "outputs": [
        {
          "data": {
            "text/plain": [
              "'Completed'"
            ]
          },
          "execution_count": 20,
          "metadata": {},
          "output_type": "execute_result"
        }
      ],
      "source": [
        "smclient.describe_hyper_parameter_tuning_job(HyperParameterTuningJobName=tuning_job_name)[\n",
        "    \"HyperParameterTuningJobStatus\"\n",
        "]"
      ]
    },
    {
      "cell_type": "code",
      "execution_count": null,
      "id": "61093dfc",
      "metadata": {
        "id": "61093dfc",
        "outputId": "1550d04d-087f-4bee-b6f8-dc231441db6a"
      },
      "outputs": [
        {
          "data": {
            "text/plain": [
              "'xgboost-aws-project-10-15-27-36'"
            ]
          },
          "execution_count": 21,
          "metadata": {},
          "output_type": "execute_result"
        }
      ],
      "source": [
        "smclient.describe_hyper_parameter_tuning_job(HyperParameterTuningJobName=tuning_job_name)['HyperParameterTuningJobName']"
      ]
    },
    {
      "cell_type": "code",
      "execution_count": null,
      "id": "8d81559e",
      "metadata": {
        "id": "8d81559e",
        "outputId": "50cc96b3-a54e-4b79-aace-d9d38abf87fb"
      },
      "outputs": [
        {
          "name": "stdout",
          "output_type": "stream",
          "text": [
            "10 training jobs have completed\n"
          ]
        }
      ],
      "source": [
        "# run this cell to check current status of hyperparameter tuning job\n",
        "tuning_job_result = smclient.describe_hyper_parameter_tuning_job(\n",
        "    HyperParameterTuningJobName=tuning_job_name\n",
        ")\n",
        "\n",
        "status = tuning_job_result[\"HyperParameterTuningJobStatus\"]\n",
        "if status != \"Completed\":\n",
        "    print(\"Reminder: the tuning job has not been completed.\")\n",
        "\n",
        "job_count = tuning_job_result[\"TrainingJobStatusCounters\"][\"Completed\"]\n",
        "print(\"%d training jobs have completed\" % job_count)\n",
        "\n",
        "objective = tuning_job_result[\"HyperParameterTuningJobConfig\"][\"HyperParameterTuningJobObjective\"]\n",
        "is_minimize = objective[\"Type\"] != \"Maximize\"\n",
        "objective_name = objective[\"MetricName\"]"
      ]
    },
    {
      "cell_type": "code",
      "execution_count": null,
      "id": "a4485697",
      "metadata": {
        "id": "a4485697",
        "outputId": "783b00b0-1160-483f-ef7c-d4b3bfddffb4"
      },
      "outputs": [
        {
          "name": "stdout",
          "output_type": "stream",
          "text": [
            "Best model found so far:\n",
            "{'CreationTime': datetime.datetime(2024, 4, 10, 15, 33, 9, tzinfo=tzlocal()),\n",
            " 'FinalHyperParameterTuningJobObjectiveMetric': {'MetricName': 'validation:logloss',\n",
            "                                                 'Value': 0.6933199763298035},\n",
            " 'ObjectiveStatus': 'Succeeded',\n",
            " 'TrainingEndTime': datetime.datetime(2024, 4, 10, 15, 33, 50, tzinfo=tzlocal()),\n",
            " 'TrainingJobArn': 'arn:aws:sagemaker:us-east-1:280250966416:training-job/xgboost-aws-project-10-15-27-36-010-7f7e7ae0',\n",
            " 'TrainingJobName': 'xgboost-aws-project-10-15-27-36-010-7f7e7ae0',\n",
            " 'TrainingJobStatus': 'Completed',\n",
            " 'TrainingStartTime': datetime.datetime(2024, 4, 10, 15, 33, 14, tzinfo=tzlocal()),\n",
            " 'TunedHyperParameters': {'alpha': '0.21873760237067041',\n",
            "                          'eta': '0.0031952091784340775',\n",
            "                          'max_depth': '4',\n",
            "                          'min_child_weight': '2.3791240277463035'}}\n"
          ]
        }
      ],
      "source": [
        "from pprint import pprint\n",
        "\n",
        "if tuning_job_result.get(\"BestTrainingJob\", None):\n",
        "    print(\"Best model found so far:\")\n",
        "    pprint(tuning_job_result[\"BestTrainingJob\"])\n",
        "else:\n",
        "    print(\"No training jobs have reported results yet.\")"
      ]
    },
    {
      "cell_type": "code",
      "execution_count": null,
      "id": "8720037e",
      "metadata": {
        "id": "8720037e"
      },
      "outputs": [],
      "source": []
    }
  ],
  "metadata": {
    "kernelspec": {
      "display_name": "Python 3 (ipykernel)",
      "language": "python",
      "name": "python3"
    },
    "language_info": {
      "codemirror_mode": {
        "name": "ipython",
        "version": 3
      },
      "file_extension": ".py",
      "mimetype": "text/x-python",
      "name": "python",
      "nbconvert_exporter": "python",
      "pygments_lexer": "ipython3",
      "version": "3.11.5"
    },
    "colab": {
      "provenance": [],
      "include_colab_link": true
    }
  },
  "nbformat": 4,
  "nbformat_minor": 5
}